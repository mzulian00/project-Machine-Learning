{
 "cells": [
  {
   "cell_type": "code",
   "execution_count": 7,
   "metadata": {},
   "outputs": [
    {
     "name": "stdout",
     "output_type": "stream",
     "text": [
      "CURR WD =  c:\\Users\\matteo\\Documents\\GitHub\\project-Machine-Learning\\patch_painting \n",
      "FINAL D =  c:\\Users\\matteo\\Documents\\GitHub\\project-Machine-Learning\\patch_painting\\train\\sea\n",
      "CURR WD =  c:\\Users\\matteo\\Documents\\GitHub\\project-Machine-Learning\\patch_painting \n",
      "FINAL D =  c:\\Users\\matteo\\Documents\\GitHub\\project-Machine-Learning\\train\\sea\n"
     ]
    }
   ],
   "source": [
    "import os\n",
    "dir = os.path.join(os.getcwd(), 'train\\sea')\n",
    "print('CURR WD = ', os.getcwd(), '\\nFINAL D = ', dir)\n",
    "\n",
    "dir = os.path.join(os.path.dirname(os.getcwd()), 'train\\sea')\n",
    "print('CURR WD = ', os.getcwd(), '\\nFINAL D = ', dir)"
   ]
  },
  {
   "cell_type": "code",
   "execution_count": 6,
   "metadata": {},
   "outputs": [
    {
     "ename": "TypeError",
     "evalue": "listdir: path should be string, bytes, os.PathLike or None, not builtin_function_or_method",
     "output_type": "error",
     "traceback": [
      "\u001b[1;31m---------------------------------------------------------------------------\u001b[0m",
      "\u001b[1;31mTypeError\u001b[0m                                 Traceback (most recent call last)",
      "Cell \u001b[1;32mIn[6], line 2\u001b[0m\n\u001b[0;32m      1\u001b[0m \u001b[38;5;28;01mfrom\u001b[39;00m \u001b[38;5;21;01mconstants\u001b[39;00m \u001b[38;5;28;01mimport\u001b[39;00m \u001b[38;5;241m*\u001b[39m\n\u001b[1;32m----> 2\u001b[0m \u001b[38;5;28;01mfrom\u001b[39;00m \u001b[38;5;21;01mdataset\u001b[39;00m \u001b[38;5;28;01mimport\u001b[39;00m dataloader\n\u001b[0;32m      3\u001b[0m \u001b[38;5;28;01mfrom\u001b[39;00m \u001b[38;5;21;01mgenerator\u001b[39;00m \u001b[38;5;28;01mimport\u001b[39;00m Generator\n\u001b[0;32m      4\u001b[0m \u001b[38;5;28;01mfrom\u001b[39;00m \u001b[38;5;21;01mdiscriminator\u001b[39;00m \u001b[38;5;28;01mimport\u001b[39;00m Discriminator\n",
      "File \u001b[1;32mc:\\Users\\matteo\\Documents\\GitHub\\project-Machine-Learning\\patch_painting\\dataset.py:40\u001b[0m\n\u001b[0;32m     28\u001b[0m \t\t\u001b[38;5;28;01mreturn\u001b[39;00m image\n\u001b[0;32m     30\u001b[0m transform \u001b[38;5;241m=\u001b[39m T\u001b[38;5;241m.\u001b[39mCompose([\n\u001b[0;32m     31\u001b[0m \tT\u001b[38;5;241m.\u001b[39mToPILImage(),\n\u001b[0;32m     32\u001b[0m \tT\u001b[38;5;241m.\u001b[39mRandomRotation(\u001b[38;5;241m10\u001b[39m),\n\u001b[1;32m   (...)\u001b[0m\n\u001b[0;32m     37\u001b[0m \tT\u001b[38;5;241m.\u001b[39mToTensor()\n\u001b[0;32m     38\u001b[0m ])\n\u001b[1;32m---> 40\u001b[0m dataset \u001b[38;5;241m=\u001b[39m \u001b[43mDataset\u001b[49m\u001b[43m(\u001b[49m\u001b[43mtransform\u001b[49m\u001b[38;5;241;43m=\u001b[39;49m\u001b[43mtransform\u001b[49m\u001b[43m)\u001b[49m\n\u001b[0;32m     41\u001b[0m dataloader \u001b[38;5;241m=\u001b[39m dutils\u001b[38;5;241m.\u001b[39mDataLoader(dataset, batch_size\u001b[38;5;241m=\u001b[39mBATCH_SIZE, shuffle\u001b[38;5;241m=\u001b[39m\u001b[38;5;28;01mTrue\u001b[39;00m)\n\u001b[0;32m     42\u001b[0m test_ds \u001b[38;5;241m=\u001b[39m dutils\u001b[38;5;241m.\u001b[39mDataLoader(dataset, batch_size\u001b[38;5;241m=\u001b[39m\u001b[38;5;241m16\u001b[39m, shuffle\u001b[38;5;241m=\u001b[39m\u001b[38;5;28;01mTrue\u001b[39;00m)\n",
      "File \u001b[1;32mc:\\Users\\matteo\\Documents\\GitHub\\project-Machine-Learning\\patch_painting\\dataset.py:17\u001b[0m, in \u001b[0;36mDataset.__init__\u001b[1;34m(self, transform)\u001b[0m\n\u001b[0;32m     16\u001b[0m \u001b[38;5;28;01mdef\u001b[39;00m \u001b[38;5;21m__init__\u001b[39m(\u001b[38;5;28mself\u001b[39m, transform\u001b[38;5;241m=\u001b[39m\u001b[38;5;28;01mNone\u001b[39;00m):\n\u001b[1;32m---> 17\u001b[0m \t\u001b[38;5;28mself\u001b[39m\u001b[38;5;241m.\u001b[39mimage_names \u001b[38;5;241m=\u001b[39m \u001b[43mos\u001b[49m\u001b[38;5;241;43m.\u001b[39;49m\u001b[43mlistdir\u001b[49m\u001b[43m(\u001b[49m\u001b[38;5;28;43mdir\u001b[39;49m\u001b[43m)\u001b[49m\n\u001b[0;32m     18\u001b[0m \t\u001b[38;5;28mself\u001b[39m\u001b[38;5;241m.\u001b[39mtransform \u001b[38;5;241m=\u001b[39m transform\n",
      "\u001b[1;31mTypeError\u001b[0m: listdir: path should be string, bytes, os.PathLike or None, not builtin_function_or_method"
     ]
    }
   ],
   "source": [
    "from constants import *\n",
    "from dataset import dataloader\n",
    "from generator import Generator\n",
    "from discriminator import Discriminator\n",
    "\n",
    "# from tqdm import tqdm\n",
    "# from torch import nn\n",
    "# import torch\n",
    "# import random\n",
    "# import torchvision.transforms as T\n",
    "# import torchvision.utils as vutils\n",
    "# import time"
   ]
  }
 ],
 "metadata": {
  "kernelspec": {
   "display_name": "Python 3",
   "language": "python",
   "name": "python3"
  },
  "language_info": {
   "codemirror_mode": {
    "name": "ipython",
    "version": 3
   },
   "file_extension": ".py",
   "mimetype": "text/x-python",
   "name": "python",
   "nbconvert_exporter": "python",
   "pygments_lexer": "ipython3",
   "version": "3.10.11"
  }
 },
 "nbformat": 4,
 "nbformat_minor": 2
}
