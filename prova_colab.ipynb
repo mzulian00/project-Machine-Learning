{
  "cells": [
    {
      "cell_type": "code",
      "execution_count": 29,
      "metadata": {
        "id": "82aeibixHypT",
        "outputId": "fa8ac740-ba23-41c1-e715-64048d8fe093",
        "colab": {
          "base_uri": "https://localhost:8080/"
        }
      },
      "outputs": [
        {
          "output_type": "stream",
          "name": "stdout",
          "text": [
            "fatal: destination path 'project-Machine-Learning' already exists and is not an empty directory.\n"
          ]
        }
      ],
      "source": [
        "import os\n",
        "import numpy as np\n",
        "from PIL import Image\n",
        "import matplotlib.pyplot as plt\n",
        "import requests\n",
        "from io import BytesIO\n",
        "\n",
        "! git clone https://github.com/mzulian00/project-Machine-Learning"
      ]
    },
    {
      "cell_type": "code",
      "execution_count": null,
      "metadata": {
        "id": "kGDEKJr5HypX"
      },
      "outputs": [],
      "source": [
        "def load_images(image_folder, image_size=(128, 128)):\n",
        "    images = []\n",
        "    for filename in os.listdir(image_folder):\n",
        "        img = Image.open(os.path.join(image_folder, filename)).convert('L')\n",
        "        img = img.resize(image_size)\n",
        "        img = np.array(img)\n",
        "        img = (img - 127.5) / 127.5\n",
        "        images.append(img)\n",
        "    return np.expand_dims(np.array(images), axis=-1)\n",
        "\n",
        "\n",
        "images = load_images(os.path.join(os.getcwd(), \"train/sea\"))\n",
        "\n",
        "\n",
        "plt.imshow(images[1])\n",
        "plt.show()"
      ]
    }
  ],
  "metadata": {
    "kernelspec": {
      "display_name": "Python 3",
      "language": "python",
      "name": "python3"
    },
    "language_info": {
      "codemirror_mode": {
        "name": "ipython",
        "version": 3
      },
      "file_extension": ".py",
      "mimetype": "text/x-python",
      "name": "python",
      "nbconvert_exporter": "python",
      "pygments_lexer": "ipython3",
      "version": "3.10.11"
    },
    "colab": {
      "provenance": []
    }
  },
  "nbformat": 4,
  "nbformat_minor": 0
}