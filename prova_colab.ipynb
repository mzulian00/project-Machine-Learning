{
 "cells": [
  {
   "cell_type": "code",
   "execution_count": null,
   "metadata": {},
   "outputs": [],
   "source": [
    "try:\n",
    "    import google.colab\n",
    "    from google.colab import drive\n",
    "    drive.mount('/content/drive')\n",
    "    %cd /content\n",
    "    !rm -rf project-Machine-Learning\n",
    "    !git clone https://github.com/mzulian00/project-Machine-Learning\n",
    "    %cd /content/project-Machine-Learning\n",
    "    colab_flag = True\n",
    "except ImportError:\n",
    "    print('not using colab')\n",
    "    colab_flag = False"
   ]
  },
  {
   "cell_type": "code",
   "execution_count": null,
   "metadata": {},
   "outputs": [],
   "source": [
    "import time\n",
    "time_local = time.localtime()\n",
    "if colab_flag:\n",
    "    time_local.tm_hour = time_local.tm_hour+2\n",
    "formatted_time = time.strftime(\"%Y_%m_%d_%H_%M\", time_local)\n",
    "\n",
    "\n",
    "!python train.py --epochs 1000 --name {formatted_time}"
   ]
  }
 ],
 "metadata": {
  "kernelspec": {
   "display_name": "Python 3",
   "language": "python",
   "name": "python3"
  },
  "language_info": {
   "codemirror_mode": {
    "name": "ipython",
    "version": 3
   },
   "file_extension": ".py",
   "mimetype": "text/x-python",
   "name": "python",
   "nbconvert_exporter": "python",
   "pygments_lexer": "ipython3",
   "version": "3.10.11"
  }
 },
 "nbformat": 4,
 "nbformat_minor": 2
}
