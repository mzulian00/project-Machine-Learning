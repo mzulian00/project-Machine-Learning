{
 "cells": [
  {
   "cell_type": "code",
   "execution_count": null,
   "metadata": {},
   "outputs": [],
   "source": [
    "import time\n",
    "\n",
    "try:\n",
    "    import google.colab\n",
    "    from google.colab import drive\n",
    "    drive.mount('/content/drive')\n",
    "    %cd /content\n",
    "    !rm -rf project-Machine-Learning\n",
    "    !git clone https://github.com/mzulian00/project-Machine-Learning\n",
    "    # %cd /content/project-Machine-Learning\n",
    "    colab_flag = True\n",
    "except ImportError:\n",
    "    print('not using colab')\n",
    "    colab_flag = False\n",
    "\n"
   ]
  },
  {
   "cell_type": "code",
   "execution_count": null,
   "metadata": {},
   "outputs": [
    {
     "name": "stderr",
     "output_type": "stream",
     "text": [
      "Traceback (most recent call last):\n",
      "  File \"c:\\Users\\matteo\\Documents\\GitHub\\project-Machine-Learning\\train.py\", line 251, in <module>\n",
      "    train(args)\n",
      "  File \"c:\\Users\\matteo\\Documents\\GitHub\\project-Machine-Learning\\train.py\", line 26, in train\n",
      "    save_model(generator, discriminator, args.name)\n",
      "  File \"c:\\Users\\matteo\\Documents\\GitHub\\project-Machine-Learning\\train.py\", line 239, in save_model\n",
      "    torch.save(generator, os.path.join('content','drive','My Drive', f'{name}_gen.pkl'))\n",
      "  File \"C:\\Users\\matteo\\AppData\\Local\\Packages\\PythonSoftwareFoundation.Python.3.10_qbz5n2kfra8p0\\LocalCache\\local-packages\\Python310\\site-packages\\torch\\serialization.py\", line 618, in save\n",
      "    with _open_zipfile_writer(f) as opened_zipfile:\n",
      "  File \"C:\\Users\\matteo\\AppData\\Local\\Packages\\PythonSoftwareFoundation.Python.3.10_qbz5n2kfra8p0\\LocalCache\\local-packages\\Python310\\site-packages\\torch\\serialization.py\", line 492, in _open_zipfile_writer\n",
      "    return container(name_or_buffer)\n",
      "  File \"C:\\Users\\matteo\\AppData\\Local\\Packages\\PythonSoftwareFoundation.Python.3.10_qbz5n2kfra8p0\\LocalCache\\local-packages\\Python310\\site-packages\\torch\\serialization.py\", line 463, in __init__\n",
      "    super().__init__(torch._C.PyTorchFileWriter(self.name))\n",
      "RuntimeError: Parent directory content\\drive\\My Drive does not exist.\n"
     ]
    },
    {
     "name": "stdout",
     "output_type": "stream",
     "text": [
      "Started training using device: cpu - 1000\n"
     ]
    }
   ],
   "source": [
    "formatted_time = time.strftime(\"%Y_%m_%d_%H_%M\", time.localtime())\n",
    "!python /content/project-Machine-Learning/train.py --epochs 1000 --name {formatted_time}"
   ]
  }
 ],
 "metadata": {
  "kernelspec": {
   "display_name": "Python 3",
   "language": "python",
   "name": "python3"
  },
  "language_info": {
   "codemirror_mode": {
    "name": "ipython",
    "version": 3
   },
   "file_extension": ".py",
   "mimetype": "text/x-python",
   "name": "python",
   "nbconvert_exporter": "python",
   "pygments_lexer": "ipython3",
   "version": "3.10.11"
  }
 },
 "nbformat": 4,
 "nbformat_minor": 2
}
